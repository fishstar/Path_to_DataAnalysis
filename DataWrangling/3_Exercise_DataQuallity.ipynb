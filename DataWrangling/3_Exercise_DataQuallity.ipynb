{
 "cells": [
  {
   "cell_type": "markdown",
   "metadata": {},
   "source": [
    "# Exercise: Data Quality\n",
    "\n",
    "## Auditing Data Quality"
   ]
  },
  {
   "cell_type": "markdown",
   "metadata": {},
   "source": [
    "In this problem set you work with cities infobox data, audit it, come up with a\n",
    "cleaning idea and then clean it up. In the first exercise we want you to audit\n",
    "the datatypes that can be found in some particular fields in the dataset.\n",
    "The possible types of values can be:\n",
    "- NoneType if the value is a string \"NULL\" or an empty string \"\"\n",
    "- list, if the value starts with \"{\"\n",
    "- int, if the value can be cast to int\n",
    "- float, if the value can be cast to float, but CANNOT be cast to int.\n",
    "   For example, '3.23e+07' should be considered a float because it can be cast\n",
    "   as float but int('3.23e+07') will throw a ValueError\n",
    "- 'str', for all other values\n",
    "\n",
    "The audit_file function should return a dictionary containing fieldnames and a \n",
    "SET of the types that can be found in the field. e.g.\n",
    "{\"field1\": set([type(float()), type(int()), type(str())]),\n",
    " \"field2\": set([type(str())]),\n",
    "  ....\n",
    "}\n",
    "The type() function returns a type object describing the argument given to the \n",
    "function. You can also use examples of objects to create type objects, e.g.\n",
    "type(1.1) for a float: see the test function below for examples.\n",
    "\n",
    "Note that the first three rows (after the header row) in the cities.csv file\n",
    "are not actual data points. The contents of these rows should not be included\n",
    "when processing data types. Be sure to include functionality in your code to\n",
    "skip over or detect these rows.\n"
   ]
  },
  {
   "cell_type": "code",
   "execution_count": 3,
   "metadata": {
    "collapsed": false
   },
   "outputs": [
    {
     "name": "stdout",
     "output_type": "stream",
     "text": [
      "{'areaCode': {<class 'str'>, <class 'int'>, <class 'NoneType'>, <class 'list'>},\n",
      " 'areaLand': {<class 'NoneType'>, <class 'list'>, <class 'float'>},\n",
      " 'areaMetro': {<class 'NoneType'>, <class 'list'>, <class 'float'>},\n",
      " 'areaUrban': {<class 'NoneType'>, <class 'list'>, <class 'float'>},\n",
      " 'elevation': {<class 'NoneType'>, <class 'list'>, <class 'float'>},\n",
      " 'governmentType_label': {<class 'str'>, <class 'NoneType'>, <class 'list'>},\n",
      " 'homepage': {<class 'str'>, <class 'NoneType'>, <class 'list'>},\n",
      " 'isPartOf_label': {<class 'str'>, <class 'NoneType'>, <class 'list'>},\n",
      " 'maximumElevation': {<class 'NoneType'>, <class 'list'>, <class 'float'>},\n",
      " 'minimumElevation': {<class 'NoneType'>, <class 'float'>},\n",
      " 'name': {<class 'str'>, <class 'NoneType'>, <class 'list'>},\n",
      " 'populationDensity': {<class 'NoneType'>, <class 'list'>, <class 'float'>},\n",
      " 'populationTotal': {<class 'int'>, <class 'NoneType'>, <class 'list'>},\n",
      " 'timeZone_label': {<class 'str'>, <class 'NoneType'>, <class 'list'>},\n",
      " 'utcOffset': {<class 'float'>,\n",
      "               <class 'list'>,\n",
      "               <class 'int'>,\n",
      "               <class 'NoneType'>,\n",
      "               <class 'str'>},\n",
      " 'wgs84_pos#lat': {<class 'NoneType'>, <class 'list'>, <class 'float'>},\n",
      " 'wgs84_pos#long': {<class 'NoneType'>, <class 'list'>, <class 'float'>}}\n"
     ]
    }
   ],
   "source": [
    "import codecs\n",
    "import csv\n",
    "import json\n",
    "import pprint\n",
    "\n",
    "CITIES = 'data/cities.csv'\n",
    "\n",
    "FIELDS = [\"name\", \"timeZone_label\", \"utcOffset\", \"homepage\", \"governmentType_label\",\n",
    "          \"isPartOf_label\", \"areaCode\", \"populationTotal\", \"elevation\",\n",
    "          \"maximumElevation\", \"minimumElevation\", \"populationDensity\",\n",
    "          \"wgs84_pos#lat\", \"wgs84_pos#long\", \"areaLand\", \"areaMetro\", \"areaUrban\"]\n",
    "\n",
    "def audit_file(filename, fields):\n",
    "    fieldtypes = {}\n",
    "    for field in fields:\n",
    "        fieldtypes[field] = set()\n",
    "    \n",
    "    with open(filename, 'r') as f:\n",
    "        reader = csv.DictReader(f)\n",
    "        \n",
    "        for row in reader:\n",
    "            if (row['URI']=='URI') or (row['URI'].startswith('http://www.w3.org')):\n",
    "                continue\n",
    "                \n",
    "            for field in fields:\n",
    "                value = row[field]               \n",
    "                try:\n",
    "                    value = int(value)   \n",
    "                    valuetype = type(value)\n",
    "                except:\n",
    "                    try:\n",
    "                        value = float(value)\n",
    "                        valuetype = type(value)\n",
    "                    except:\n",
    "                        if value in ['NULL', '']:\n",
    "                            valuetype = type(None)\n",
    "                        elif value.startswith('{'):\n",
    "                            valuetype = type([])\n",
    "                        else:\n",
    "                            valuetype = type('')\n",
    "                    \n",
    "                fieldtypes[field].add(valuetype)          \n",
    "                \n",
    "    return fieldtypes\n",
    "\n",
    "\n",
    "fieldtypes = audit_file(CITIES, FIELDS)\n",
    "\n",
    "pprint.pprint(fieldtypes)\n"
   ]
  },
  {
   "cell_type": "markdown",
   "metadata": {},
   "source": [
    "## Fixing the area\n",
    "\n",
    "In this problem set you work with cities infobox data, audit it, come up with a\n",
    "cleaning idea and then clean it up.\n",
    "\n",
    "Since in the previous quiz you made a decision on which value to keep for the\n",
    "\"areaLand\" field, you now know what has to be done.\n",
    "\n",
    "Finish the function fix_area(). It will receive a string as an input, and it\n",
    "has to return a float representing the value of the area or None.\n",
    "You have to change the function fix_area. You can use extra functions if you\n",
    "like, but changes to process_file will not be taken into account.\n",
    "The rest of the code is just an example on how this function can be used.\n"
   ]
  },
  {
   "cell_type": "code",
   "execution_count": 4,
   "metadata": {
    "collapsed": false
   },
   "outputs": [
    {
     "name": "stdout",
     "output_type": "stream",
     "text": [
      "Printing three example results:\n",
      "None\n",
      "None\n",
      "None\n"
     ]
    }
   ],
   "source": [
    "CITIES = 'data/cities.csv'\n",
    "\n",
    "\n",
    "def fix_area(area):\n",
    "\n",
    "    try:\n",
    "        area = float(area)\n",
    "    except:\n",
    "        if area.startswith('{'):\n",
    "            arealist = area[1:-1].split('|')\n",
    "            arealens = [len(s) for s in arealist]\n",
    "            index = arealens.index(max(arealens))\n",
    "            area = float(arealist[index])    \n",
    "            \n",
    "        else:\n",
    "            area = None\n",
    "\n",
    "    return area\n",
    "\n",
    "\n",
    "\n",
    "def process_file(filename):\n",
    "    data = []\n",
    "\n",
    "    with open(filename, \"r\") as f:\n",
    "        reader = csv.DictReader(f)\n",
    "\n",
    "        #skipping the extra metadata\n",
    "        for i in range(3):\n",
    "            next(reader)\n",
    "\n",
    "        # processing file\n",
    "        for line in reader:\n",
    "            # calling your function to fix the area value\n",
    "            if \"areaLand\" in line:\n",
    "                line[\"areaLand\"] = fix_area(line[\"areaLand\"])\n",
    "            data.append(line)\n",
    "\n",
    "    return data\n",
    "\n",
    "\n",
    "\n",
    "data = process_file(CITIES)\n",
    "\n",
    "print(\"Printing three example results:\")\n",
    "for n in range(5,8):\n",
    "    pprint.pprint(data[n][\"areaLand\"])\n",
    "\n"
   ]
  },
  {
   "cell_type": "markdown",
   "metadata": {},
   "source": [
    "## Fixing name\n",
    "\n",
    "In this problem set you work with cities infobox data, audit it, come up with a\n",
    "cleaning idea and then clean it up.\n",
    "\n",
    "In the previous quiz you recognized that the \"name\" value can be an array (or\n",
    "list in Python terms). It would make it easier to process and query the data\n",
    "later if all values for the name are in a Python list, instead of being\n",
    "just a string separated with special characters, like now.\n",
    "\n",
    "Finish the function fix_name(). It will recieve a string as an input, and it\n",
    "will return a list of all the names. If there is only one name, the list will\n",
    "have only one item in it; if the name is \"NULL\", the list should be empty.\n",
    "The rest of the code is just an example on how this function can be used."
   ]
  },
  {
   "cell_type": "code",
   "execution_count": 6,
   "metadata": {
    "collapsed": false
   },
   "outputs": [
    {
     "name": "stdout",
     "output_type": "stream",
     "text": [
      "Printing 20 results:\n",
      "['Kud']\n",
      "['Kuju']\n",
      "['Kumbhraj']\n",
      "['Kumhari']\n",
      "['Kundagola', 'Kundgol ಕುಂದಗೋಳ']\n",
      "['Kunigal']\n",
      "['Kunzer']\n",
      "['Kurduvadi', 'कुर्डुवाडी']\n",
      "['Kurgunta']\n",
      "['Kurinjipadi']\n",
      "['Kurud']\n",
      "['Kushtagi']\n",
      "['Ladnun', 'लाडनूँ']\n",
      "['Lahar', 'लहार']\n",
      "['Laharpur']\n",
      "['Lakheri']\n",
      "['Lakhipur']\n",
      "['Laksar', 'लक्सर']\n",
      "['Lalkuan']\n",
      "['Lalsot']\n"
     ]
    }
   ],
   "source": [
    "CITIES = 'data/cities.csv'\n",
    "\n",
    "\n",
    "def fix_name(name):\n",
    "\n",
    "    if name == 'NULL':\n",
    "        name = []\n",
    "    elif name.startswith('{'):\n",
    "        name = name[1:-1].split('|')\n",
    "    else:\n",
    "        name = [name]\n",
    "        \n",
    "    return name\n",
    "\n",
    "\n",
    "def process_file(filename):\n",
    "    data = []\n",
    "    with open(filename, \"r\") as f:\n",
    "        reader = csv.DictReader(f)\n",
    "        \n",
    "        #skipping the extra metadata\n",
    "        for i in range(3):\n",
    "            next(reader)\n",
    "            \n",
    "        # processing file\n",
    "        for line in reader:\n",
    "            # calling your function to fix the area value\n",
    "            if \"name\" in line:\n",
    "                line[\"name\"] = fix_name(line[\"name\"])\n",
    "            data.append(line)\n",
    "    return data\n",
    "\n",
    "\n",
    "\n",
    "data = process_file(CITIES)\n",
    "\n",
    "print(\"Printing 20 results:\")\n",
    "for n in range(20):\n",
    "    pprint.pprint(data[n][\"name\"])\n"
   ]
  },
  {
   "cell_type": "markdown",
   "metadata": {
    "collapsed": true
   },
   "source": [
    "## Crossfield Auditing\n",
    "\n",
    "In this problem set you work with cities infobox data, audit it, come up with a\n",
    "cleaning idea and then clean it up.\n",
    "\n",
    "If you look at the full city data, you will notice that there are couple of\n",
    "values that seem to provide the same information in different formats: \"point\"\n",
    "seems to be the combination of \"wgs84_pos#lat\" and \"wgs84_pos#long\". However,\n",
    "we do not know if that is the case and should check if they are equivalent.\n",
    "\n",
    "Finish the function check_loc(). It will recieve 3 strings: first, the combined\n",
    "value of \"point\" followed by the separate \"wgs84_pos#\" values. You have to\n",
    "extract the lat and long values from the \"point\" argument and compare them to\n",
    "the \"wgs84_pos# values, returning True or False.\n",
    "\n",
    "Note that you do not have to fix the values, only determine if they are\n",
    "consistent. To fix them in this case you would need more information. Feel free\n",
    "to discuss possible strategies for fixing this on the discussion forum.\n",
    "\n",
    "The rest of the code is just an example on how this function can be used.\n",
    "Changes to \"process_file\" function will not be taken into account for grading."
   ]
  },
  {
   "cell_type": "code",
   "execution_count": 12,
   "metadata": {
    "collapsed": false
   },
   "outputs": [
    {
     "data": {
      "text/plain": [
       "True"
      ]
     },
     "execution_count": 12,
     "metadata": {},
     "output_type": "execute_result"
    }
   ],
   "source": [
    "CITIES = 'data/cities.csv'\n",
    "\n",
    "\n",
    "def check_loc(point, lat, longi):\n",
    "    \n",
    "    if (point=='NULL') or (point.startswith('{')):\n",
    "        return False\n",
    "    else:\n",
    "        point_lat, point_longi = point.split(' ') \n",
    "        point_lat = float(point_lat)\n",
    "        point_longi = float(point_longi)\n",
    "        lat = float(lat)\n",
    "        longi = float(longi)\n",
    "    \n",
    "        return (point_lat == lat) and (point_longi == longi)\n",
    "    \n",
    "    \n",
    "\n",
    "\n",
    "def process_file(filename):\n",
    "    data = []\n",
    "    with open(filename, \"r\") as f:\n",
    "        reader = csv.DictReader(f)\n",
    "        #skipping the extra matadata\n",
    "        for i in range(3):\n",
    "            next(reader)\n",
    "        # processing file\n",
    "        for line in reader:\n",
    "            # calling your function to check the location\n",
    "            result = check_loc(line[\"point\"], line[\"wgs84_pos#lat\"], line[\"wgs84_pos#long\"])\n",
    "            if not result:\n",
    "                print(\"{}: {} != {} {}\".\n",
    "                      format(line[\"name\"], line[\"point\"], line[\"wgs84_pos#lat\"], line[\"wgs84_pos#long\"]))\n",
    "            data.append(line)\n",
    "\n",
    "    return data\n",
    "\n",
    "\n",
    "check_loc(\"33.08 75.28\", \"33.08\", \"75.28\") == True"
   ]
  },
  {
   "cell_type": "code",
   "execution_count": null,
   "metadata": {
    "collapsed": true
   },
   "outputs": [],
   "source": []
  }
 ],
 "metadata": {
  "kernelspec": {
   "display_name": "Python 3",
   "language": "python",
   "name": "python3"
  },
  "language_info": {
   "codemirror_mode": {
    "name": "ipython",
    "version": 3
   },
   "file_extension": ".py",
   "mimetype": "text/x-python",
   "name": "python",
   "nbconvert_exporter": "python",
   "pygments_lexer": "ipython3",
   "version": "3.6.0"
  }
 },
 "nbformat": 4,
 "nbformat_minor": 2
}
