{
 "cells": [
  {
   "cell_type": "markdown",
   "metadata": {},
   "source": [
    "# Advanced indexing\n",
    "\n",
    "## Index objects and labeled data\n",
    "\n",
    "### Changing index of a DataFrame\n",
    "As you saw in the previous exercise, indexes are immutable objects. This means that if you want to change or modify the index in a DataFrame, then you need to change the whole index. You will do this now, using a list comprehension to create the new index.\n",
    "\n",
    "A list comprehension is a succinct way to generate a list in one line. For example, the following list comprehension generates a list that contains the cubes of all numbers from 0 to 9: \n",
    "\n",
    "```\n",
    "cubes = [i**3 for i in range(10)]\n",
    "```\n",
    "This is equivalent to the following code:\n",
    "```\n",
    "cubes = []\n",
    "for i in range(10):\n",
    "    cubes.append(i**3)\n",
    "```\n",
    "Before getting started, print the sales DataFrame in the IPython Shell and verify that the index is given by month abbreviations containing lowercase characters."
   ]
  },
  {
   "cell_type": "code",
   "execution_count": 10,
   "metadata": {
    "collapsed": false
   },
   "outputs": [
    {
     "name": "stdout",
     "output_type": "stream",
     "text": [
      "      eggs  salt  spam\n",
      "Jan   47.0  12.0  17.0\n",
      "Feb  110.0  50.0  31.0\n",
      "Mar  221.0  89.0  72.0\n",
      "Apr   77.0  87.0  20.0\n",
      "May  132.0   NaN  52.0\n",
      "Jun  205.0  60.0  55.0\n"
     ]
    }
   ],
   "source": [
    "import pandas as pd\n",
    "import numpy as np\n",
    "\n",
    "sales = pd.DataFrame([[  47.,   12.,   17.],\n",
    "       [ 110.,   50.,   31.],\n",
    "       [ 221.,   89.,   72.],\n",
    "       [  77.,   87.,   20.],\n",
    "       [ 132.,   np.nan,   52.],\n",
    "       [ 205.,   60.,   55.]], \n",
    "                    index = ['Jan', 'Feb', 'Mar', 'Apr', 'May', 'Jun'],\n",
    "                    columns = ['eggs', 'salt', 'spam'])\n",
    "\n",
    "print(sales)"
   ]
  },
  {
   "cell_type": "code",
   "execution_count": 11,
   "metadata": {
    "collapsed": false
   },
   "outputs": [
    {
     "name": "stdout",
     "output_type": "stream",
     "text": [
      "      eggs  salt  spam\n",
      "JAN   47.0  12.0  17.0\n",
      "FEB  110.0  50.0  31.0\n",
      "MAR  221.0  89.0  72.0\n",
      "APR   77.0  87.0  20.0\n",
      "MAY  132.0   NaN  52.0\n",
      "JUN  205.0  60.0  55.0\n"
     ]
    }
   ],
   "source": [
    "# Create the list of new indexes: new_idx\n",
    "new_idx = [s.upper() for s in sales.index]\n",
    "\n",
    "# Assign new_idx to sales.index\n",
    "sales.index = new_idx\n",
    "\n",
    "# Print the sales DataFrame\n",
    "print(sales)"
   ]
  },
  {
   "cell_type": "markdown",
   "metadata": {},
   "source": [
    "### Changing index name labels\n",
    "Notice that in the previous exercise, the index was not labeled with a name. In this exercise, you will set its name to 'MONTHS'.\n",
    "\n",
    "Similarly, if all the columns are related in some way, you can provide a label for the set of columns.\n",
    "\n",
    "To get started, print the sales DataFrame in the IPython Shell and verify that the index has no name, only its data (the month names)."
   ]
  },
  {
   "cell_type": "code",
   "execution_count": 12,
   "metadata": {
    "collapsed": false
   },
   "outputs": [
    {
     "name": "stdout",
     "output_type": "stream",
     "text": [
      "         eggs  salt  spam\n",
      "MONTHS                   \n",
      "JAN      47.0  12.0  17.0\n",
      "FEB     110.0  50.0  31.0\n",
      "MAR     221.0  89.0  72.0\n",
      "APR      77.0  87.0  20.0\n",
      "MAY     132.0   NaN  52.0\n",
      "JUN     205.0  60.0  55.0\n"
     ]
    }
   ],
   "source": [
    "# Assign the string 'MONTHS' to sales.index.name\n",
    "sales.index.name = 'MONTHS'\n",
    "\n",
    "# Print the sales DataFrame\n",
    "print(sales)\n"
   ]
  },
  {
   "cell_type": "code",
   "execution_count": 13,
   "metadata": {
    "collapsed": false
   },
   "outputs": [
    {
     "name": "stdout",
     "output_type": "stream",
     "text": [
      "PRODUCTS   eggs  salt  spam\n",
      "MONTHS                     \n",
      "JAN        47.0  12.0  17.0\n",
      "FEB       110.0  50.0  31.0\n",
      "MAR       221.0  89.0  72.0\n",
      "APR        77.0  87.0  20.0\n",
      "MAY       132.0   NaN  52.0\n",
      "JUN       205.0  60.0  55.0\n"
     ]
    }
   ],
   "source": [
    "# Assign the string 'PRODUCTS' to sales.columns.name \n",
    "sales.columns.name = 'PRODUCTS'\n",
    "\n",
    "# Print the sales dataframe again\n",
    "print(sales)"
   ]
  },
  {
   "cell_type": "markdown",
   "metadata": {},
   "source": [
    "### Building an index, then a DataFrame\n",
    "You can also build the DataFrame and index independently, and then put them together. If you take this route, be careful, as any mistakes in generating the DataFrame or the index can cause the data and the index to be aligned incorrectly.\n",
    "\n",
    "In this exercise, the sales DataFrame has been provided for you without the month index. Your job is to build this index separately and then assign it to the sales DataFrame. Before getting started, print the sales DataFrame in the IPython Shell and note that it's missing the month information."
   ]
  },
  {
   "cell_type": "code",
   "execution_count": 14,
   "metadata": {
    "collapsed": false
   },
   "outputs": [
    {
     "name": "stdout",
     "output_type": "stream",
     "text": [
      "    eggs  salt  spam\n",
      "0   47.0  12.0  17.0\n",
      "1  110.0  50.0  31.0\n",
      "2  221.0  89.0  72.0\n",
      "3   77.0  87.0  20.0\n",
      "4  132.0   NaN  52.0\n",
      "5  205.0  60.0  55.0\n"
     ]
    }
   ],
   "source": [
    "sales = pd.DataFrame([[  47.,   12.,   17.],\n",
    "       [ 110.,   50.,   31.],\n",
    "       [ 221.,   89.,   72.],\n",
    "       [  77.,   87.,   20.],\n",
    "       [ 132.,   np.nan,   52.],\n",
    "       [ 205.,   60.,   55.]], \n",
    "                    columns = ['eggs', 'salt', 'spam'])\n",
    "\n",
    "print(sales)"
   ]
  },
  {
   "cell_type": "code",
   "execution_count": 15,
   "metadata": {
    "collapsed": false
   },
   "outputs": [
    {
     "name": "stdout",
     "output_type": "stream",
     "text": [
      "      eggs  salt  spam\n",
      "Jan   47.0  12.0  17.0\n",
      "Feb  110.0  50.0  31.0\n",
      "Mar  221.0  89.0  72.0\n",
      "Apr   77.0  87.0  20.0\n",
      "May  132.0   NaN  52.0\n",
      "Jun  205.0  60.0  55.0\n"
     ]
    }
   ],
   "source": [
    "# Generate the list of months: months\n",
    "months = ['Jan', 'Feb', 'Mar', 'Apr', 'May', 'Jun']\n",
    "\n",
    "# Assign months to sales.index\n",
    "sales.index = months\n",
    "\n",
    "# Print the modified sales DataFrame\n",
    "print(sales)\n"
   ]
  },
  {
   "cell_type": "markdown",
   "metadata": {},
   "source": [
    "## Hierarchical indexing\n",
    "### Extracting data with a MultiIndex\n",
    "In the video, Dhavide explained the concept of a hierarchical index, or a MultiIndex. You will now practice working with these types of indexes.\n",
    "\n",
    "The sales DataFrame you have been working with has been extended to now include State information as well. In the IPython Shell, print the new sales DataFrame to inspect the data. Take note of the MultiIndex!\n",
    "\n",
    "Extracting elements from the outermost level of a MultiIndex is just like in the case of a single-level Index. You can use the .loc[] accessor as Dhavide demonstrated in the video."
   ]
  },
  {
   "cell_type": "code",
   "execution_count": 18,
   "metadata": {
    "collapsed": false
   },
   "outputs": [
    {
     "name": "stdout",
     "output_type": "stream",
     "text": [
      "             eggs  salt  spam\n",
      "state month                  \n",
      "CA    1        47  12.0    17\n",
      "      2       110  50.0    31\n",
      "NY    1       221  89.0    72\n",
      "      2        77  87.0    20\n",
      "TX    1       132   NaN    52\n",
      "      2       205  60.0    55\n"
     ]
    }
   ],
   "source": [
    "sales = pd.DataFrame([['CA', 1, 47, 12.0, 17],\n",
    "       ['CA', 2, 110, 50.0, 31],\n",
    "       ['NY', 1, 221, 89.0, 72],\n",
    "       ['NY', 2, 77, 87.0, 20],\n",
    "       ['TX', 1, 132, np.nan, 52],\n",
    "       ['TX', 2, 205, 60.0, 55]],\n",
    "                    columns = ['state', 'month', 'eggs', 'salt', 'spam'])\n",
    "sales = sales.set_index(['state', 'month'])\n",
    "print(sales)"
   ]
  },
  {
   "cell_type": "code",
   "execution_count": 19,
   "metadata": {
    "collapsed": false
   },
   "outputs": [
    {
     "name": "stdout",
     "output_type": "stream",
     "text": [
      "             eggs  salt  spam\n",
      "state month                  \n",
      "CA    1        47  12.0    17\n",
      "      2       110  50.0    31\n",
      "TX    1       132   NaN    52\n",
      "      2       205  60.0    55\n"
     ]
    }
   ],
   "source": [
    "# Print sales.loc[['CA', 'TX']]\n",
    "print(sales.loc[['CA','TX']])"
   ]
  },
  {
   "cell_type": "code",
   "execution_count": 20,
   "metadata": {
    "collapsed": false
   },
   "outputs": [
    {
     "name": "stdout",
     "output_type": "stream",
     "text": [
      "             eggs  salt  spam\n",
      "state month                  \n",
      "CA    1        47  12.0    17\n",
      "      2       110  50.0    31\n",
      "NY    1       221  89.0    72\n",
      "      2        77  87.0    20\n",
      "TX    1       132   NaN    52\n",
      "      2       205  60.0    55\n"
     ]
    }
   ],
   "source": [
    "# Print sales['CA':'TX']\n",
    "print(sales['CA':'TX'])"
   ]
  },
  {
   "cell_type": "markdown",
   "metadata": {},
   "source": [
    "### Setting & sorting a MultiIndex\n",
    "In the previous exercise, the MultiIndex was created and sorted for you. Now, you're going to do this yourself! With a MultiIndex, you should always ensure the index is sorted. You can skip this only if you know the data is already sorted on the index fields.\n",
    "\n",
    "To get started, print the pre-loaded sales DataFrame in the IPython Shell to verify that there is no MultiIndex."
   ]
  },
  {
   "cell_type": "code",
   "execution_count": 21,
   "metadata": {
    "collapsed": false
   },
   "outputs": [
    {
     "name": "stdout",
     "output_type": "stream",
     "text": [
      "             eggs  salt  spam\n",
      "state month                  \n",
      "CA    1        47  12.0    17\n",
      "      2       110  50.0    31\n",
      "NY    1       221  89.0    72\n",
      "      2        77  87.0    20\n",
      "TX    1       132   NaN    52\n",
      "      2       205  60.0    55\n"
     ]
    }
   ],
   "source": [
    "# Sort the MultiIndex: sales\n",
    "sales = sales.sort_index()\n",
    "\n",
    "# Print the sales DataFrame\n",
    "print(sales)"
   ]
  },
  {
   "cell_type": "markdown",
   "metadata": {},
   "source": [
    "### Using .loc[] with nonunique indexes\n",
    "As Dhavide mentioned in the video, it is always preferable to have a meaningful index that uniquely identifies each row. Even though pandas does not require unique index values in DataFrames, it works better if the index values are indeed unique. To see an example of this, you will index your sales data by 'state' in this exercise.\n",
    "\n",
    "As always, begin by printing the sales DataFrame in the IPython Shell and inspecting it."
   ]
  },
  {
   "cell_type": "code",
   "execution_count": 22,
   "metadata": {
    "collapsed": false
   },
   "outputs": [
    {
     "name": "stdout",
     "output_type": "stream",
     "text": [
      "       month  eggs  salt  spam\n",
      "state                         \n",
      "CA         1    47  12.0    17\n",
      "CA         2   110  50.0    31\n",
      "NY         1   221  89.0    72\n",
      "NY         2    77  87.0    20\n",
      "TX         1   132   NaN    52\n",
      "TX         2   205  60.0    55\n",
      "       month  eggs  salt  spam\n",
      "state                         \n",
      "NY         1   221  89.0    72\n",
      "NY         2    77  87.0    20\n"
     ]
    }
   ],
   "source": [
    "sales = sales.reset_index()\n",
    "\n",
    "# Set the index to the column 'state': sales\n",
    "sales = sales.set_index('state')\n",
    "\n",
    "# Print the sales DataFrame\n",
    "print(sales)\n",
    "\n",
    "# Access the data from 'NY'\n",
    "print(sales.loc['NY'])\n"
   ]
  },
  {
   "cell_type": "markdown",
   "metadata": {},
   "source": [
    "### Indexing multiple levels of a MultiIndex\n",
    "Looking up indexed data is fast and efficient. And you have already seen that lookups based on the outermost level of a MultiIndex work just like lookups on DataFrames that have a single-level Index.\n",
    "\n",
    "Looking up data based on inner levels of a MultiIndex can be a bit trickier. In this exercise, you will use your sales DataFrame to do some increasingly complex lookups.\n",
    "\n",
    "The trickiest of all these lookups are when you want to access some inner levels of the index. In this case, you need to use slice(None) in the slicing parameter for the outermost dimension(s) instead of the usual :, or use pd.IndexSlice. You can refer to the pandas documentation for more details. For example, in the video, Dhavide used the following code to extract rows from all Symbols for the dates Oct. 3rd through 4th inclusive:\n",
    "\n",
    "```\n",
    "stocks.loc[(slice(None), slice('2016-10-03', '2016-10-04')), :]\n",
    "```\n",
    "Pay particular attention to the tuple (slice(None), slice('2016-10-03', '2016-10-04'))."
   ]
  },
  {
   "cell_type": "code",
   "execution_count": 24,
   "metadata": {
    "collapsed": true
   },
   "outputs": [],
   "source": [
    "sales = sales.reset_index()\n",
    "sales = sales.set_index(['state', 'month'])"
   ]
  },
  {
   "cell_type": "code",
   "execution_count": 30,
   "metadata": {
    "collapsed": false
   },
   "outputs": [
    {
     "name": "stdout",
     "output_type": "stream",
     "text": [
      "eggs    221.0\n",
      "salt     89.0\n",
      "spam     72.0\n",
      "Name: (NY, 1), dtype: float64\n"
     ]
    }
   ],
   "source": [
    "# Look up data for NY in month 1: NY_month1\n",
    "NY_month1 = sales.loc[('NY', 1), :]\n",
    "print(NY_month1)"
   ]
  },
  {
   "cell_type": "code",
   "execution_count": 26,
   "metadata": {
    "collapsed": false
   },
   "outputs": [
    {
     "name": "stdout",
     "output_type": "stream",
     "text": [
      "             eggs  salt  spam\n",
      "state month                  \n",
      "CA    2       110  50.0    31\n",
      "TX    2       205  60.0    55\n"
     ]
    }
   ],
   "source": [
    "# Look up data for CA and TX in month 2: CA_TX_month2\n",
    "CA_TX_month2 = sales.loc[(['CA', 'TX'], 2), :]\n",
    "print(CA_TX_month2)"
   ]
  },
  {
   "cell_type": "code",
   "execution_count": 27,
   "metadata": {
    "collapsed": false
   },
   "outputs": [
    {
     "name": "stdout",
     "output_type": "stream",
     "text": [
      "             eggs  salt  spam\n",
      "state month                  \n",
      "CA    2       110  50.0    31\n",
      "NY    2        77  87.0    20\n",
      "TX    2       205  60.0    55\n"
     ]
    }
   ],
   "source": [
    "# Look up data for all states in month 2: all_month2\n",
    "all_month2 = sales.loc[(slice(None), 2), :]\n",
    "print(all_month2)"
   ]
  },
  {
   "cell_type": "code",
   "execution_count": null,
   "metadata": {
    "collapsed": true
   },
   "outputs": [],
   "source": []
  }
 ],
 "metadata": {
  "kernelspec": {
   "display_name": "Python 3",
   "language": "python",
   "name": "python3"
  },
  "language_info": {
   "codemirror_mode": {
    "name": "ipython",
    "version": 3
   },
   "file_extension": ".py",
   "mimetype": "text/x-python",
   "name": "python",
   "nbconvert_exporter": "python",
   "pygments_lexer": "ipython3",
   "version": "3.6.0"
  }
 },
 "nbformat": 4,
 "nbformat_minor": 2
}
