{
 "cells": [
  {
   "cell_type": "markdown",
   "metadata": {},
   "source": [
    "# Exercise: Data Extraction Fundamentals"
   ]
  },
  {
   "cell_type": "markdown",
   "metadata": {},
   "source": [
    "## Using CSV module"
   ]
  },
  {
   "cell_type": "code",
   "execution_count": 8,
   "metadata": {
    "collapsed": false
   },
   "outputs": [
    {
     "name": "stdout",
     "output_type": "stream",
     "text": [
      "MOUNTAIN VIEW MOFFETT FLD NAS\n",
      "['01/01/2005', '03:00', '0', '0', '0', '2', '0', '0', '2', '0', '0', '2', '0', '0', '2', '0', '0', '2', '0', '0', '2', '0', '0', '2', '0', '8', 'E', '9', '8', 'E', '9', '7.0', 'A', '7', '6.0', 'A', '7', '93', 'A', '7', '1013', 'A', '7', '120', 'A', '7', '2.1', 'A', '7', '16100', 'A', '7', '2100', 'A', '7', '1.1', 'E', '8', '0.099', 'F', '8', '0.160', 'F', '8', '0', '1', 'A', '7']\n"
     ]
    }
   ],
   "source": [
    "\"\"\"\n",
    "Your task is to process the supplied file and use the csv module to extract data from it.\n",
    "The data comes from NREL (National Renewable Energy Laboratory) website. Each file\n",
    "contains information from one meteorological station, in particular - about amount of\n",
    "solar and wind energy for each hour of day.\n",
    "\n",
    "Note that the first line of the datafile is neither data entry, nor header. It is a line\n",
    "describing the data source. You should extract the name of the station from it.\n",
    "\n",
    "The data should be returned as a list of lists (not dictionaries).\n",
    "You can use the csv modules \"reader\" method to get data in such format.\n",
    "Another useful method is next() - to get the next line from the iterator.\n",
    "You should only change the parse_file function.\n",
    "\"\"\"\n",
    "import csv\n",
    "import os\n",
    "\n",
    "DATADIR = \"data/\"\n",
    "DATAFILE = \"745090.csv\"\n",
    "\n",
    "\n",
    "def parse_file(datafile):\n",
    "    name = \"\"\n",
    "    data = []\n",
    "    with open(datafile,'r') as f:\n",
    "        reader = csv.reader(f)\n",
    "        name = next(reader)[1]  # extract station name\n",
    "        next(reader)   # skip the column names\n",
    "        data = [[v for v in row] for row in reader] \n",
    "        \n",
    "    return (name, data)\n",
    "\n",
    "\n",
    "datafile = os.path.join(DATADIR, DATAFILE)\n",
    "name, data = parse_file(datafile)\n",
    "\n",
    "print(name)\n",
    "print(data[2])"
   ]
  },
  {
   "cell_type": "markdown",
   "metadata": {},
   "source": [
    "## Excel to CSV"
   ]
  },
  {
   "cell_type": "code",
   "execution_count": 27,
   "metadata": {
    "collapsed": false
   },
   "outputs": [
    {
     "data": {
      "text/plain": [
       "[['Station', 'Year', 'Month', 'Day', 'Hour', 'Max Load'],\n",
       " ['COAST', 2013, 8, 13, 17, 18779.025510000003],\n",
       " ['EAST', 2013, 8, 5, 17, 2380.1654089999956],\n",
       " ['FAR_WEST', 2013, 6, 26, 17, 2281.2722140000024],\n",
       " ['NORTH', 2013, 8, 7, 17, 1544.7707140000005],\n",
       " ['NORTH_C', 2013, 8, 7, 18, 24415.570226999993],\n",
       " ['SOUTHERN', 2013, 8, 8, 16, 5494.157645],\n",
       " ['SOUTH_C', 2013, 8, 8, 18, 11433.30491600001],\n",
       " ['WEST', 2013, 8, 7, 17, 1862.6137649999998]]"
      ]
     },
     "execution_count": 27,
     "metadata": {},
     "output_type": "execute_result"
    }
   ],
   "source": [
    "# -*- coding: utf-8 -*-\n",
    "'''\n",
    "Find the time and value of max load for each of the regions\n",
    "COAST, EAST, FAR_WEST, NORTH, NORTH_C, SOUTHERN, SOUTH_C, WEST\n",
    "and write the result out in a csv file, using pipe character | as the delimiter.\n",
    "\n",
    "An example output can be seen in the \"example.csv\" file.\n",
    "'''\n",
    "\n",
    "import xlrd\n",
    "import csv\n",
    "\n",
    "datafile = \"data/2013_ERCOT_Hourly_Load_Data.xls\"\n",
    "outfile = \"data/2013_Max_Loads.csv\"\n",
    "\n",
    "\n",
    "def parse_file(datafile):\n",
    "    workbook = xlrd.open_workbook(datafile)\n",
    "    sheet = workbook.sheet_by_index(0)   \n",
    "\n",
    "    data = []\n",
    "    data.append(['Station', 'Year', 'Month', 'Day', 'Hour', 'Max Load'])\n",
    "\n",
    "    stations = sheet.row_values(0)[1:9]\n",
    "    timecol = sheet.col_values(0, start_rowx=1)\n",
    "\n",
    "    for i in range(8):\n",
    "        col = sheet.col_values(i+1, start_rowx=1)\n",
    "        maxcol = max(col)\n",
    "        maxidx = col.index(maxcol)\n",
    "        time = xlrd.xldate_as_tuple(timecol[maxidx], 0) \n",
    "        data.append([stations[i]] + list(time[:4]) + [maxcol])\n",
    "  \n",
    "    return data\n",
    "\n",
    "def save_file(data, filename):\n",
    "    with open(filename, 'w') as csvfile:\n",
    "        w = csv.writer(csvfile, delimiter='|')\n",
    "        w.writerows(data)\n",
    "    \n",
    "    \n",
    "data = parse_file(datafile)\n",
    "save_file(data, outfile)\n",
    "\n",
    "data\n"
   ]
  },
  {
   "cell_type": "markdown",
   "metadata": {},
   "source": [
    "## Wrangling JSON\n",
    "\n",
    "If you want to know more, or query the site by yourself, please read the [NYTimes Developer Documentation for the Most Popular API](http://developer.nytimes.com/docs/most_popular_api/) and [apply for your own API Key for NY Times](http://developer.nytimes.com/page)."
   ]
  },
  {
   "cell_type": "code",
   "execution_count": 68,
   "metadata": {
    "collapsed": false
   },
   "outputs": [],
   "source": [
    "\"\"\"\n",
    "This exercise shows some important concepts that you should be aware about:\n",
    "- using codecs module to write unicode files\n",
    "- using authentication with web APIs\n",
    "- using offset when accessing web APIs\n",
    "\n",
    "To run this code locally you have to register at the NYTimes developer site \n",
    "and get your own API key. You will be able to complete this exercise in our UI\n",
    "without doing so, as we have provided a sample result. (See the file \n",
    "'popular-viewed-1.json' from the tabs above.)\n",
    "\n",
    "Your task is to modify the article_overview() function to process the saved\n",
    "file that represents the most popular articles (by view count) from the last\n",
    "day, and return a tuple of variables containing the following data:\n",
    "- labels: list of dictionaries, where the keys are the \"section\" values and\n",
    "  values are the \"title\" values for each of the retrieved articles.\n",
    "- urls: list of URLs for all 'media' entries with \"format\": \"Standard Thumbnail\"\n",
    "\n",
    "All your changes should be in the article_overview() function. \n",
    "The rest of functions are provided for your convenience, if you want to access\n",
    "the API by yourself.\n",
    "\"\"\"\n",
    "import json\n",
    "import codecs\n",
    "import requests\n",
    "\n",
    "URL_MAIN = \"http://api.nytimes.com/svc/\"\n",
    "URL_POPULAR = URL_MAIN + \"mostpopular/v2/\"\n",
    "API_KEY = { \"popular\": \"\",\n",
    "            \"article\": \"\"}\n",
    "\n",
    "\n",
    "\n",
    "def article_overview(kind, period):\n",
    "    data = get_popular(URL_POPULAR, kind, period)\n",
    "    data = data['results']\n",
    "    titles = []\n",
    "    urls =[]\n",
    "\n",
    "    for item in data:\n",
    "        titles.append({item['section']: item['title']})\n",
    "        for it in item['media']:\n",
    "            i = it['media-metadata']\n",
    "            urls.append([x['url'] for x in i if x['format'] == 'Standard Thumbnail'][0])\n",
    "\n",
    "    return (titles, urls)\n",
    "\n",
    "\n",
    "def query_site(url, target, offset):\n",
    "    # This will set up the query with the API key and offset\n",
    "    # Web services often use offset paramter to return data in small chunks\n",
    "    # NYTimes returns 20 articles per request, if you want the next 20\n",
    "    # You have to provide the offset parameter\n",
    "    if API_KEY[\"popular\"] == \"\" or API_KEY[\"article\"] == \"\":\n",
    "        print(\"You need to register for NYTimes Developer account to run this program.\")\n",
    "        print(\"See Intructor notes for information\")\n",
    "        return False\n",
    "    params = {\"api-key\": API_KEY[target], \"offset\": offset}\n",
    "    r = requests.get(url, params = params)\n",
    "\n",
    "    if r.status_code == requests.codes.ok:\n",
    "        return r.json()\n",
    "    else:\n",
    "        r.raise_for_status()\n",
    "\n",
    "\n",
    "def get_popular(url, kind, days, section=\"all-sections\", offset=0):\n",
    "    # This function will construct the query according to the requirements of the site\n",
    "    # and return the data, or print an error message if called incorrectly\n",
    "    if days not in [1,7,30]:\n",
    "        print(\"Time period can be 1,7, 30 days only\")\n",
    "        return False\n",
    "    if kind not in [\"viewed\", \"shared\", \"emailed\"]:\n",
    "        print(\"kind can be only one of viewed/shared/emailed\")\n",
    "        return False\n",
    "\n",
    "    url += \"most{0}/{1}/{2}.json\".format(kind, section, days)\n",
    "    data = query_site(url, \"popular\", offset)\n",
    "\n",
    "    return data\n",
    "\n",
    "\n",
    "def save_file(kind, period):\n",
    "    # This will process all results, by calling the API repeatedly with supplied offset value,\n",
    "    # combine the data and then write all results in a file.\n",
    "    data = get_popular(URL_POPULAR, \"viewed\", 1)\n",
    "    num_results = data[\"num_results\"]\n",
    "    full_data = []\n",
    "    with codecs.open(\"data\\popular-{0}-{1}.json\".format(kind, period), encoding='utf-8', mode='w') as v:\n",
    "        for offset in range(0, num_results, 20):        \n",
    "            data = get_popular(URL_POPULAR, kind, period, offset=offset)\n",
    "            full_data += data[\"results\"]\n",
    "        \n",
    "        v.write(json.dumps(full_data, indent=2))\n",
    "\n",
    "\n",
    "\n",
    "titles, urls = article_overview(\"viewed\", 1)\n"
   ]
  },
  {
   "cell_type": "code",
   "execution_count": 69,
   "metadata": {
    "collapsed": false
   },
   "outputs": [
    {
     "data": {
      "text/plain": [
       "[{'Opinion': 'Donald, This I Will Tell You'},\n",
       " {'Magazine': 'Trump vs. Congress: Now What?'},\n",
       " {'U.S.': 'After Barring Girls for Leggings, United Airlines Defends Decision'},\n",
       " {'U.S.': 'Trump Becomes Ensnared in Fiery G.O.P. Civil War'},\n",
       " {'World': 'Alone in the Wild for a Year, TV Contestants Learn Their Show Was Canceled'},\n",
       " {'Opinion': 'I Loved My Grandmother. But She Was a Nazi.'},\n",
       " {'World': 'Canadians Adopted Refugee Families for a Year. Then Came ‘Month 13.’'},\n",
       " {'Business Day': 'One Nation, Under Fox: 18 Hours With a Network That Shapes America'},\n",
       " {'World': 'Protesters Gather in 99 Cities Across Russia; Top Putin Critic Is Arrested'},\n",
       " {'U.S.': 'Boris Epshteyn, Trump TV Surrogate, Is Leaving White House Job'},\n",
       " {'Well': 'The Best Exercise for Aging Muscles'},\n",
       " {'Opinion': 'Trump’s Triumph of Incompetence'},\n",
       " {'U.S.': 'Jeanine Pirro Calls for Paul Ryan to Step Down After Health Bill Failure'},\n",
       " {'U.S.': 'Who Stopped the Republican Health Bill?'},\n",
       " {'Opinion': 'Break Up the Liberal City'},\n",
       " {'U.S.': 'Paul Ryan Emerges From Health Care Defeat Badly Damaged'},\n",
       " {'N.Y. / Region': 'Things I Wish I Had Known When My Dog Died'},\n",
       " {'T Magazine': 'A Secret Little Glass Home in the Heart of New York'},\n",
       " {'Opinion': 'Not Leadership Material? Good. The World Needs Followers.'},\n",
       " {'U.S.': 'What Racial Terms Make You Cringe?'}]"
      ]
     },
     "execution_count": 69,
     "metadata": {},
     "output_type": "execute_result"
    }
   ],
   "source": [
    "titles"
   ]
  },
  {
   "cell_type": "code",
   "execution_count": 70,
   "metadata": {
    "collapsed": false
   },
   "outputs": [
    {
     "data": {
      "text/plain": [
       "['https://static01.nyt.com/images/2017/03/26/sunday-review/26Dowd2/26Dowd2-thumbStandard.jpg',\n",
       " 'https://static01.nyt.com/images/2017/04/02/magazine/02trump6/02trump6-thumbStandard-v2.jpg',\n",
       " 'https://static01.nyt.com/images/2017/03/27/us/27xp-leggings/27xp-leggings-thumbStandard.jpg',\n",
       " 'https://static01.nyt.com/images/2017/03/26/us/26Trump-1/26Trump-1-thumbStandard.jpg',\n",
       " 'https://static01.nyt.com/images/2017/03/25/arts/25xp-eden/25xp-eden-thumbStandard.jpg',\n",
       " 'https://static01.nyt.com/images/2017/03/25/opinion/25shattuckWweb/25shattuckWweb-thumbStandard.jpg',\n",
       " 'https://static01.nyt.com/images/2017/03/24/world/canada/24canada-slide-0VZF/24canada-slide-0VZF-thumbStandard-v2.jpg',\n",
       " 'https://static01.nyt.com/images/2017/03/25/business/25fox-top/25fox-top-thumbStandard-v2.jpg',\n",
       " 'https://static01.nyt.com/images/2017/03/27/world/27russia-web1/27russia-web1-thumbStandard.jpg',\n",
       " 'https://static01.nyt.com/images/2017/03/26/us/26boris/26boris-thumbStandard.jpg',\n",
       " 'https://static01.nyt.com/images/2017/03/26/magazine/26well/26mag-26well-t_CA0-thumbStandard.jpg',\n",
       " 'https://static01.nyt.com/images/2017/03/26/opinion/sunday/26kristof/26kristof-thumbStandard-v2.jpg',\n",
       " 'https://static01.nyt.com/images/2017/03/27/us/27trump-pirro/27trump-pirro-thumbStandard.jpg',\n",
       " 'https://static01.nyt.com/images/2017/03/24/us/politics/republicans-opposed-health-care-bill-1490401225122/republicans-opposed-health-care-bill-1490401225122-thumbStandard.jpg',\n",
       " 'https://static01.nyt.com/images/2017/03/26/sunday-review/26Douthat/26Douthat-thumbStandard.jpg',\n",
       " 'https://static01.nyt.com/images/2017/03/26/us/26Ryan/26Ryan-thumbStandard.jpg',\n",
       " 'https://static01.nyt.com/images/2017/03/26/nyregion/26PETCITY/26PETCITY-thumbStandard.jpg',\n",
       " 'https://static01.nyt.com/images/2017/03/14/t-magazine/philip-johnson-slide-JKAI/philip-johnson-slide-JKAI-thumbStandard.jpg',\n",
       " 'https://static01.nyt.com/images/2017/03/26/opinion/sunday/26cain/26cain-thumbStandard-v3.jpg',\n",
       " 'https://static01.nyt.com/images/2017/03/26/us/26racewordsscoop/26racewordsscoop-thumbStandard-v2.jpg']"
      ]
     },
     "execution_count": 70,
     "metadata": {},
     "output_type": "execute_result"
    }
   ],
   "source": [
    "urls"
   ]
  },
  {
   "cell_type": "code",
   "execution_count": null,
   "metadata": {
    "collapsed": true
   },
   "outputs": [],
   "source": []
  }
 ],
 "metadata": {
  "kernelspec": {
   "display_name": "Python 3",
   "language": "python",
   "name": "python3"
  },
  "language_info": {
   "codemirror_mode": {
    "name": "ipython",
    "version": 3
   },
   "file_extension": ".py",
   "mimetype": "text/x-python",
   "name": "python",
   "nbconvert_exporter": "python",
   "pygments_lexer": "ipython3",
   "version": "3.6.0"
  }
 },
 "nbformat": 4,
 "nbformat_minor": 2
}
